{
 "cells": [
  {
   "cell_type": "markdown",
   "id": "d698e954",
   "metadata": {},
   "source": [
    "### Part 1"
   ]
  },
  {
   "cell_type": "code",
   "execution_count": 1,
   "id": "437cd489",
   "metadata": {},
   "outputs": [
    {
     "data": {
      "text/html": [
       "<div>\n",
       "<style scoped>\n",
       "    .dataframe tbody tr th:only-of-type {\n",
       "        vertical-align: middle;\n",
       "    }\n",
       "\n",
       "    .dataframe tbody tr th {\n",
       "        vertical-align: top;\n",
       "    }\n",
       "\n",
       "    .dataframe thead th {\n",
       "        text-align: right;\n",
       "    }\n",
       "</style>\n",
       "<table border=\"1\" class=\"dataframe\">\n",
       "  <thead>\n",
       "    <tr style=\"text-align: right;\">\n",
       "      <th></th>\n",
       "      <th>Card</th>\n",
       "      <th>Numbers</th>\n",
       "      <th>Winning Numbers</th>\n",
       "    </tr>\n",
       "  </thead>\n",
       "  <tbody>\n",
       "    <tr>\n",
       "      <th>0</th>\n",
       "      <td>Card   1</td>\n",
       "      <td>45 51 86 83 53 58 64 30 67 96 41 89  8 17 33 ...</td>\n",
       "      <td>84 17 45 77 11 66 94 28 71 70</td>\n",
       "    </tr>\n",
       "    <tr>\n",
       "      <th>1</th>\n",
       "      <td>Card   2</td>\n",
       "      <td>61 49 59 99 77  8 79 64 36  6  3 67  4 90 83 ...</td>\n",
       "      <td>18 17 59  8 78 79 34 35 48 73</td>\n",
       "    </tr>\n",
       "    <tr>\n",
       "      <th>2</th>\n",
       "      <td>Card   3</td>\n",
       "      <td>2  6 89 50 11 60 57 53 71 44 47 62 49 42 73 ...</td>\n",
       "      <td>60 78 77 44 62 54 94 50 32 11</td>\n",
       "    </tr>\n",
       "    <tr>\n",
       "      <th>3</th>\n",
       "      <td>Card   4</td>\n",
       "      <td>21 30 53 62 74 79 54 19 45 67  7 80 16 24 89 ...</td>\n",
       "      <td>74 19 54  9 79 24 21 88 53  7</td>\n",
       "    </tr>\n",
       "    <tr>\n",
       "      <th>4</th>\n",
       "      <td>Card   5</td>\n",
       "      <td>55 26 12 23 74  7 58 29 45 86  5  6 93 87 14 ...</td>\n",
       "      <td>68 18 23 55  9 60 82 27 76 16</td>\n",
       "    </tr>\n",
       "    <tr>\n",
       "      <th>...</th>\n",
       "      <td>...</td>\n",
       "      <td>...</td>\n",
       "      <td>...</td>\n",
       "    </tr>\n",
       "    <tr>\n",
       "      <th>211</th>\n",
       "      <td>Card 212</td>\n",
       "      <td>67 71 65 14 42 32 75 27 60 24  8 43 68 85  4 ...</td>\n",
       "      <td>10 80 94 19 76 15 40 64  6 99</td>\n",
       "    </tr>\n",
       "    <tr>\n",
       "      <th>212</th>\n",
       "      <td>Card 213</td>\n",
       "      <td>16 29 34 79 99 73  9 65 76 19 43 11 35 52 37 ...</td>\n",
       "      <td>21 71 66 97 26 80 42 70 89 53</td>\n",
       "    </tr>\n",
       "    <tr>\n",
       "      <th>213</th>\n",
       "      <td>Card 214</td>\n",
       "      <td>27 10 59 37 40 75 95 29 30 79 57 48 44 76 15 ...</td>\n",
       "      <td>85 22 65 54 15  6 78  3 11 94</td>\n",
       "    </tr>\n",
       "    <tr>\n",
       "      <th>214</th>\n",
       "      <td>Card 215</td>\n",
       "      <td>29 87  6 35 20 81 15 10 71 96 77 44 55 18 98 ...</td>\n",
       "      <td>46 68 79 92 50 22 47 89 28 34</td>\n",
       "    </tr>\n",
       "    <tr>\n",
       "      <th>215</th>\n",
       "      <td>Card 216</td>\n",
       "      <td>70 26 63 98 86 20 59 74  3 41 34 49 78 28 55 ...</td>\n",
       "      <td>43 38 30 79 14 47 64  5  8 50</td>\n",
       "    </tr>\n",
       "  </tbody>\n",
       "</table>\n",
       "<p>216 rows × 3 columns</p>\n",
       "</div>"
      ],
      "text/plain": [
       "         Card                                            Numbers  \\\n",
       "0    Card   1   45 51 86 83 53 58 64 30 67 96 41 89  8 17 33 ...   \n",
       "1    Card   2   61 49 59 99 77  8 79 64 36  6  3 67  4 90 83 ...   \n",
       "2    Card   3    2  6 89 50 11 60 57 53 71 44 47 62 49 42 73 ...   \n",
       "3    Card   4   21 30 53 62 74 79 54 19 45 67  7 80 16 24 89 ...   \n",
       "4    Card   5   55 26 12 23 74  7 58 29 45 86  5  6 93 87 14 ...   \n",
       "..        ...                                                ...   \n",
       "211  Card 212   67 71 65 14 42 32 75 27 60 24  8 43 68 85  4 ...   \n",
       "212  Card 213   16 29 34 79 99 73  9 65 76 19 43 11 35 52 37 ...   \n",
       "213  Card 214   27 10 59 37 40 75 95 29 30 79 57 48 44 76 15 ...   \n",
       "214  Card 215   29 87  6 35 20 81 15 10 71 96 77 44 55 18 98 ...   \n",
       "215  Card 216   70 26 63 98 86 20 59 74  3 41 34 49 78 28 55 ...   \n",
       "\n",
       "                     Winning Numbers  \n",
       "0     84 17 45 77 11 66 94 28 71 70   \n",
       "1     18 17 59  8 78 79 34 35 48 73   \n",
       "2     60 78 77 44 62 54 94 50 32 11   \n",
       "3     74 19 54  9 79 24 21 88 53  7   \n",
       "4     68 18 23 55  9 60 82 27 76 16   \n",
       "..                               ...  \n",
       "211   10 80 94 19 76 15 40 64  6 99   \n",
       "212   21 71 66 97 26 80 42 70 89 53   \n",
       "213   85 22 65 54 15  6 78  3 11 94   \n",
       "214   46 68 79 92 50 22 47 89 28 34   \n",
       "215   43 38 30 79 14 47 64  5  8 50   \n",
       "\n",
       "[216 rows x 3 columns]"
      ]
     },
     "execution_count": 1,
     "metadata": {},
     "output_type": "execute_result"
    }
   ],
   "source": [
    "import pandas as pd\n",
    "\n",
    "df = pd.read_csv('day4input.csv')\n",
    "df[['Card', 'Numbers']] = df['Card'].str.split(':', expand=True)\n",
    "df[['Winning Numbers' , 'Numbers']] = df['Numbers'].str.split('|', expand=True)\n",
    "df"
   ]
  },
  {
   "cell_type": "code",
   "execution_count": 2,
   "id": "e6a45e7c",
   "metadata": {},
   "outputs": [],
   "source": [
    "def get_points(df):\n",
    "    total_points = 0\n",
    "    \n",
    "    df['Numbers'] = df['Numbers'].apply(lambda x: [int(num) for num in x.split()])\n",
    "    df['Winning Numbers'] = df['Winning Numbers'].apply(lambda x: [int(num) for num in x.split()])\n",
    "    \n",
    "    for index, row in df.iterrows():\n",
    "        numbers = set(row['Numbers'])\n",
    "        winning_numbers = set(row['Winning Numbers'])\n",
    "        \n",
    "        matching_numbers = numbers & winning_numbers\n",
    "        len_matching_numbers = len(matching_numbers)\n",
    "    \n",
    "        if len_matching_numbers > 0:\n",
    "            card_points = 2**(len_matching_numbers-1)\n",
    "        else:\n",
    "            card_points = 0\n",
    "            \n",
    "        total_points += card_points\n",
    "    \n",
    "    return total_points\n"
   ]
  },
  {
   "cell_type": "code",
   "execution_count": 3,
   "id": "c566246a",
   "metadata": {},
   "outputs": [
    {
     "data": {
      "text/plain": [
       "23941"
      ]
     },
     "execution_count": 3,
     "metadata": {},
     "output_type": "execute_result"
    }
   ],
   "source": [
    "get_points(df)"
   ]
  },
  {
   "cell_type": "markdown",
   "id": "a28e08c0",
   "metadata": {},
   "source": [
    "### Part 2"
   ]
  },
  {
   "cell_type": "code",
   "execution_count": null,
   "id": "248ace8d",
   "metadata": {},
   "outputs": [],
   "source": []
  }
 ],
 "metadata": {
  "kernelspec": {
   "display_name": "Python (base)",
   "language": "python",
   "name": "base"
  },
  "language_info": {
   "codemirror_mode": {
    "name": "ipython",
    "version": 3
   },
   "file_extension": ".py",
   "mimetype": "text/x-python",
   "name": "python",
   "nbconvert_exporter": "python",
   "pygments_lexer": "ipython3",
   "version": "3.9.13"
  }
 },
 "nbformat": 4,
 "nbformat_minor": 5
}
