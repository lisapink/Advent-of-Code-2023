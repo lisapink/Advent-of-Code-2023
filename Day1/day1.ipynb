{
 "cells": [
  {
   "cell_type": "code",
   "execution_count": 1,
   "id": "38610bee",
   "metadata": {},
   "outputs": [
    {
     "data": {
      "text/html": [
       "<div>\n",
       "<style scoped>\n",
       "    .dataframe tbody tr th:only-of-type {\n",
       "        vertical-align: middle;\n",
       "    }\n",
       "\n",
       "    .dataframe tbody tr th {\n",
       "        vertical-align: top;\n",
       "    }\n",
       "\n",
       "    .dataframe thead th {\n",
       "        text-align: right;\n",
       "    }\n",
       "</style>\n",
       "<table border=\"1\" class=\"dataframe\">\n",
       "  <thead>\n",
       "    <tr style=\"text-align: right;\">\n",
       "      <th></th>\n",
       "      <th>column</th>\n",
       "    </tr>\n",
       "  </thead>\n",
       "  <tbody>\n",
       "    <tr>\n",
       "      <th>0</th>\n",
       "      <td>dqfournine5four2jmlqcgv</td>\n",
       "    </tr>\n",
       "    <tr>\n",
       "      <th>1</th>\n",
       "      <td>7ggzdnjxndfive</td>\n",
       "    </tr>\n",
       "    <tr>\n",
       "      <th>2</th>\n",
       "      <td>twofive4threenine</td>\n",
       "    </tr>\n",
       "    <tr>\n",
       "      <th>3</th>\n",
       "      <td>dttwonezbgmcseven5seven</td>\n",
       "    </tr>\n",
       "    <tr>\n",
       "      <th>4</th>\n",
       "      <td>5vsrcnine</td>\n",
       "    </tr>\n",
       "    <tr>\n",
       "      <th>...</th>\n",
       "      <td>...</td>\n",
       "    </tr>\n",
       "    <tr>\n",
       "      <th>995</th>\n",
       "      <td>mjljctdbg8</td>\n",
       "    </tr>\n",
       "    <tr>\n",
       "      <th>996</th>\n",
       "      <td>sixthree8</td>\n",
       "    </tr>\n",
       "    <tr>\n",
       "      <th>997</th>\n",
       "      <td>bbdlvtsjhjst88</td>\n",
       "    </tr>\n",
       "    <tr>\n",
       "      <th>998</th>\n",
       "      <td>dklhhhlpqqxlgdzzheightjntbmlfour4</td>\n",
       "    </tr>\n",
       "    <tr>\n",
       "      <th>999</th>\n",
       "      <td>ggrbl5cthnzlsbjssixpt</td>\n",
       "    </tr>\n",
       "  </tbody>\n",
       "</table>\n",
       "<p>1000 rows × 1 columns</p>\n",
       "</div>"
      ],
      "text/plain": [
       "                                column\n",
       "0              dqfournine5four2jmlqcgv\n",
       "1                       7ggzdnjxndfive\n",
       "2                    twofive4threenine\n",
       "3              dttwonezbgmcseven5seven\n",
       "4                            5vsrcnine\n",
       "..                                 ...\n",
       "995                         mjljctdbg8\n",
       "996                          sixthree8\n",
       "997                     bbdlvtsjhjst88\n",
       "998  dklhhhlpqqxlgdzzheightjntbmlfour4\n",
       "999              ggrbl5cthnzlsbjssixpt\n",
       "\n",
       "[1000 rows x 1 columns]"
      ]
     },
     "execution_count": 1,
     "metadata": {},
     "output_type": "execute_result"
    }
   ],
   "source": [
    "import pandas as pd\n",
    "\n",
    "df = pd.read_csv('day1.csv')\n",
    "df"
   ]
  },
  {
   "cell_type": "markdown",
   "id": "a3dc0b86",
   "metadata": {},
   "source": [
    "# Part 1"
   ]
  },
  {
   "cell_type": "code",
   "execution_count": 2,
   "id": "f70d9092",
   "metadata": {},
   "outputs": [],
   "source": [
    "def get_number(inp_str):\n",
    "    num=\"\"\n",
    "    for c in inp_str:\n",
    "        if c.isdigit():\n",
    "            num = num + c\n",
    "    first = num[0]\n",
    "    last = num[-1]\n",
    "    concaten = first + last\n",
    "    int_conc = int(concaten)\n",
    "    \n",
    "    return int_conc"
   ]
  },
  {
   "cell_type": "code",
   "execution_count": 3,
   "id": "453795a9",
   "metadata": {},
   "outputs": [
    {
     "data": {
      "text/plain": [
       "54708"
      ]
     },
     "execution_count": 3,
     "metadata": {},
     "output_type": "execute_result"
    }
   ],
   "source": [
    "input_list = df['column'].to_list()\n",
    "\n",
    "list1 = []\n",
    "for i in input_list:\n",
    "    int_conc = get_number(i)\n",
    "    list1.append(int_conc)\n",
    "sum(list1)"
   ]
  },
  {
   "cell_type": "markdown",
   "id": "048ed740",
   "metadata": {},
   "source": [
    "# Part 2"
   ]
  },
  {
   "cell_type": "code",
   "execution_count": 12,
   "id": "995252a2",
   "metadata": {},
   "outputs": [],
   "source": [
    "def get_number2(inp_str):\n",
    "    import re\n",
    "\n",
    "    valid_numbers = [\"one\", \"two\", \"three\", \"four\", \"five\", \"six\", \"seven\", \"eight\", \"nine\", \n",
    "                \"1\", \"2\", \"3\", \"4\", \"5\", \"6\", \"7\", \"8\", \"9\"]\n",
    "    position_dict = {}\n",
    "\n",
    "    for number in valid_numbers:\n",
    "        if number in inp_str:\n",
    "            occurrences = [m.start() for m in re.finditer(number, inp_str)]\n",
    "            position_dict[number] = occurrences\n",
    "\n",
    "    word_to_digit = {\"one\": \"1\", \"two\": \"2\", \"three\": \"3\", \"four\": \"4\", \"five\": \"5\",\n",
    "                     \"six\": \"6\", \"seven\": \"7\", \"eight\": \"8\", \"nine\": \"9\"}\n",
    "\n",
    "    min_key = min(position_dict, key=lambda k: min(position_dict[k], default=float('inf')))\n",
    "    max_key = max(position_dict, key=lambda k: max(position_dict[k], default=float('-inf')))\n",
    "\n",
    "    min_key_digit = word_to_digit.get(min_key, min_key)\n",
    "    max_key_digit = word_to_digit.get(max_key, max_key)\n",
    "\n",
    "    concatenated_digits = str(min_key_digit) + str(max_key_digit)\n",
    "\n",
    "    concatenated_digits_int = int(concatenated_digits)\n",
    "    return concatenated_digits\n",
    "    "
   ]
  },
  {
   "cell_type": "code",
   "execution_count": 13,
   "id": "25b721db",
   "metadata": {},
   "outputs": [
    {
     "data": {
      "text/plain": [
       "54087"
      ]
     },
     "execution_count": 13,
     "metadata": {},
     "output_type": "execute_result"
    }
   ],
   "source": [
    "input_list = df['column'].to_list()\n",
    "\n",
    "list2 = []\n",
    "for i in input_list:\n",
    "    int_conc = get_number2(i)\n",
    "    int_conc = int(int_conc)\n",
    "    list2.append(int_conc)\n",
    "sum(list2)"
   ]
  },
  {
   "cell_type": "code",
   "execution_count": null,
   "id": "0891ac9c",
   "metadata": {},
   "outputs": [],
   "source": []
  }
 ],
 "metadata": {
  "kernelspec": {
   "display_name": "Python (base)",
   "language": "python",
   "name": "base"
  },
  "language_info": {
   "codemirror_mode": {
    "name": "ipython",
    "version": 3
   },
   "file_extension": ".py",
   "mimetype": "text/x-python",
   "name": "python",
   "nbconvert_exporter": "python",
   "pygments_lexer": "ipython3",
   "version": "3.9.13"
  }
 },
 "nbformat": 4,
 "nbformat_minor": 5
}
