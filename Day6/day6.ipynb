{
 "cells": [
  {
   "cell_type": "code",
   "execution_count": 1,
   "id": "0ef6e932",
   "metadata": {},
   "outputs": [],
   "source": [
    "import pandas as pd"
   ]
  },
  {
   "cell_type": "code",
   "execution_count": 2,
   "id": "275acd31",
   "metadata": {},
   "outputs": [
    {
     "data": {
      "text/html": [
       "<div>\n",
       "<style scoped>\n",
       "    .dataframe tbody tr th:only-of-type {\n",
       "        vertical-align: middle;\n",
       "    }\n",
       "\n",
       "    .dataframe tbody tr th {\n",
       "        vertical-align: top;\n",
       "    }\n",
       "\n",
       "    .dataframe thead th {\n",
       "        text-align: right;\n",
       "    }\n",
       "</style>\n",
       "<table border=\"1\" class=\"dataframe\">\n",
       "  <thead>\n",
       "    <tr style=\"text-align: right;\">\n",
       "      <th></th>\n",
       "      <th>Time</th>\n",
       "      <th>Distance</th>\n",
       "    </tr>\n",
       "  </thead>\n",
       "  <tbody>\n",
       "    <tr>\n",
       "      <th>0</th>\n",
       "      <td>52</td>\n",
       "      <td>426</td>\n",
       "    </tr>\n",
       "    <tr>\n",
       "      <th>1</th>\n",
       "      <td>94</td>\n",
       "      <td>1374</td>\n",
       "    </tr>\n",
       "    <tr>\n",
       "      <th>2</th>\n",
       "      <td>75</td>\n",
       "      <td>1279</td>\n",
       "    </tr>\n",
       "    <tr>\n",
       "      <th>3</th>\n",
       "      <td>94</td>\n",
       "      <td>1216</td>\n",
       "    </tr>\n",
       "  </tbody>\n",
       "</table>\n",
       "</div>"
      ],
      "text/plain": [
       "   Time  Distance\n",
       "0    52       426\n",
       "1    94      1374\n",
       "2    75      1279\n",
       "3    94      1216"
      ]
     },
     "execution_count": 2,
     "metadata": {},
     "output_type": "execute_result"
    }
   ],
   "source": [
    "df = pd.read_csv('day6.csv')\n",
    "df"
   ]
  },
  {
   "cell_type": "markdown",
   "id": "083c972b",
   "metadata": {},
   "source": [
    "### Testing algorithm on one case"
   ]
  },
  {
   "cell_type": "code",
   "execution_count": 36,
   "id": "e89eb0d9",
   "metadata": {},
   "outputs": [
    {
     "name": "stdout",
     "output_type": "stream",
     "text": [
      "31\n"
     ]
    }
   ],
   "source": [
    "x = 52\n",
    "y = 426\n",
    "\n",
    "winning = []\n",
    "\n",
    "for i in range(x):\n",
    "    dist = i * (x-i)\n",
    "    if dist > y:\n",
    "        winning.append(dist)\n",
    "    \n",
    "print(len(winning))"
   ]
  },
  {
   "cell_type": "markdown",
   "id": "f16424e8",
   "metadata": {},
   "source": [
    "# Part 1"
   ]
  },
  {
   "cell_type": "code",
   "execution_count": 37,
   "id": "a271a87f",
   "metadata": {},
   "outputs": [
    {
     "name": "stdout",
     "output_type": "stream",
     "text": [
      "2449062\n"
     ]
    }
   ],
   "source": [
    "x = [52,94, 75, 94]\n",
    "y = [426, 1374, 1279, 1216]\n",
    "\n",
    "total_wins = 1\n",
    "\n",
    "for i in range(len(x)):\n",
    "    time = x[i]\n",
    "    dist_record = y[i]\n",
    "    \n",
    "    wins = 0\n",
    "    \n",
    "    for j in range(time):\n",
    "       \n",
    "        dist = j * (time - j)\n",
    "   \n",
    "        if dist > dist_record:\n",
    "            wins+=1\n",
    "            \n",
    "    total_wins = total_wins * wins\n",
    "     \n",
    "print(total_wins)\n"
   ]
  },
  {
   "cell_type": "markdown",
   "id": "ab8f6aa3",
   "metadata": {},
   "source": [
    "# Part 2"
   ]
  },
  {
   "cell_type": "code",
   "execution_count": 39,
   "id": "d70235e8",
   "metadata": {},
   "outputs": [
    {
     "name": "stdout",
     "output_type": "stream",
     "text": [
      "33149631\n"
     ]
    }
   ],
   "source": [
    "x = 52947594\n",
    "y = 426137412791216\n",
    "\n",
    "wins = []\n",
    "\n",
    "for i in range(x):\n",
    "    dist = i * (x-i)\n",
    "    if dist > y:\n",
    "        winning.append(dist)\n",
    "    \n",
    "print(len(winning))"
   ]
  }
 ],
 "metadata": {
  "kernelspec": {
   "display_name": "Python (base)",
   "language": "python",
   "name": "base"
  },
  "language_info": {
   "codemirror_mode": {
    "name": "ipython",
    "version": 3
   },
   "file_extension": ".py",
   "mimetype": "text/x-python",
   "name": "python",
   "nbconvert_exporter": "python",
   "pygments_lexer": "ipython3",
   "version": "3.9.13"
  }
 },
 "nbformat": 4,
 "nbformat_minor": 5
}
